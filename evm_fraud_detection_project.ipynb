{
 "cells": [
  {
   "cell_type": "markdown",
   "id": "e142f9c4-4ee8-4e79-bcf1-192977c3880b",
   "metadata": {},
   "source": [
    "**Import the libraries**"
   ]
  },
  {
   "cell_type": "code",
   "execution_count": 124,
   "id": "79bfaec9-9500-4dfa-93c2-9b513c157c7c",
   "metadata": {},
   "outputs": [],
   "source": [
    "import pandas as pd\n",
    "import numpy as np\n",
    "from sklearn.model_selection import train_test_split, cross_val_score\n",
    "from sklearn.neighbors import KNeighborsClassifier\n",
    "from sklearn.preprocessing import LabelEncoder,StandardScaler\n",
    "from sklearn.metrics import accuracy_score, classification_report, confusion_matrix\n",
    "from imblearn.over_sampling import SMOTE\n",
    "from sklearn.feature_selection import SelectKBest, f_classif\n",
    "import matplotlib.pyplot as plt\n",
    "import seaborn as sns\n",
    "import warnings\n",
    "# Ignore warnings\n",
    "warnings.filterwarnings('ignore')"
   ]
  },
  {
   "cell_type": "markdown",
   "id": "ab4b54c5-3c23-4c38-bbd9-4388ca7f53f0",
   "metadata": {},
   "source": [
    "**Load , save and read the data**"
   ]
  },
  {
   "cell_type": "code",
   "execution_count": 228,
   "id": "2dd26044-e3d4-4417-9502-678a9bc4e5f6",
   "metadata": {},
   "outputs": [
    {
     "data": {
      "text/html": [
       "<div>\n",
       "<style scoped>\n",
       "    .dataframe tbody tr th:only-of-type {\n",
       "        vertical-align: middle;\n",
       "    }\n",
       "\n",
       "    .dataframe tbody tr th {\n",
       "        vertical-align: top;\n",
       "    }\n",
       "\n",
       "    .dataframe thead th {\n",
       "        text-align: right;\n",
       "    }\n",
       "</style>\n",
       "<table border=\"1\" class=\"dataframe\">\n",
       "  <thead>\n",
       "    <tr style=\"text-align: right;\">\n",
       "      <th></th>\n",
       "      <th>Machine_ID</th>\n",
       "      <th>Vote_Choice</th>\n",
       "      <th>Location</th>\n",
       "      <th>Voting_Duration</th>\n",
       "      <th>Fraudulent</th>\n",
       "    </tr>\n",
       "  </thead>\n",
       "  <tbody>\n",
       "    <tr>\n",
       "      <th>0</th>\n",
       "      <td>1</td>\n",
       "      <td>A</td>\n",
       "      <td>Loc1</td>\n",
       "      <td>10</td>\n",
       "      <td>0</td>\n",
       "    </tr>\n",
       "    <tr>\n",
       "      <th>1</th>\n",
       "      <td>2</td>\n",
       "      <td>B</td>\n",
       "      <td>Loc1</td>\n",
       "      <td>20</td>\n",
       "      <td>1</td>\n",
       "    </tr>\n",
       "    <tr>\n",
       "      <th>2</th>\n",
       "      <td>3</td>\n",
       "      <td>C</td>\n",
       "      <td>Loc1</td>\n",
       "      <td>30</td>\n",
       "      <td>0</td>\n",
       "    </tr>\n",
       "    <tr>\n",
       "      <th>3</th>\n",
       "      <td>4</td>\n",
       "      <td>D</td>\n",
       "      <td>Loc1</td>\n",
       "      <td>40</td>\n",
       "      <td>0</td>\n",
       "    </tr>\n",
       "    <tr>\n",
       "      <th>4</th>\n",
       "      <td>5</td>\n",
       "      <td>A</td>\n",
       "      <td>Loc2</td>\n",
       "      <td>15</td>\n",
       "      <td>1</td>\n",
       "    </tr>\n",
       "    <tr>\n",
       "      <th>...</th>\n",
       "      <td>...</td>\n",
       "      <td>...</td>\n",
       "      <td>...</td>\n",
       "      <td>...</td>\n",
       "      <td>...</td>\n",
       "    </tr>\n",
       "    <tr>\n",
       "      <th>95</th>\n",
       "      <td>6</td>\n",
       "      <td>D</td>\n",
       "      <td>Loc1</td>\n",
       "      <td>28</td>\n",
       "      <td>0</td>\n",
       "    </tr>\n",
       "    <tr>\n",
       "      <th>96</th>\n",
       "      <td>7</td>\n",
       "      <td>A</td>\n",
       "      <td>Loc2</td>\n",
       "      <td>38</td>\n",
       "      <td>1</td>\n",
       "    </tr>\n",
       "    <tr>\n",
       "      <th>97</th>\n",
       "      <td>8</td>\n",
       "      <td>B</td>\n",
       "      <td>Loc2</td>\n",
       "      <td>48</td>\n",
       "      <td>0</td>\n",
       "    </tr>\n",
       "    <tr>\n",
       "      <th>98</th>\n",
       "      <td>9</td>\n",
       "      <td>C</td>\n",
       "      <td>Loc2</td>\n",
       "      <td>55</td>\n",
       "      <td>1</td>\n",
       "    </tr>\n",
       "    <tr>\n",
       "      <th>99</th>\n",
       "      <td>10</td>\n",
       "      <td>D</td>\n",
       "      <td>Loc2</td>\n",
       "      <td>65</td>\n",
       "      <td>0</td>\n",
       "    </tr>\n",
       "  </tbody>\n",
       "</table>\n",
       "<p>100 rows × 5 columns</p>\n",
       "</div>"
      ],
      "text/plain": [
       "    Machine_ID Vote_Choice Location  Voting_Duration  Fraudulent\n",
       "0            1           A     Loc1               10           0\n",
       "1            2           B     Loc1               20           1\n",
       "2            3           C     Loc1               30           0\n",
       "3            4           D     Loc1               40           0\n",
       "4            5           A     Loc2               15           1\n",
       "..         ...         ...      ...              ...         ...\n",
       "95           6           D     Loc1               28           0\n",
       "96           7           A     Loc2               38           1\n",
       "97           8           B     Loc2               48           0\n",
       "98           9           C     Loc2               55           1\n",
       "99          10           D     Loc2               65           0\n",
       "\n",
       "[100 rows x 5 columns]"
      ]
     },
     "execution_count": 228,
     "metadata": {},
     "output_type": "execute_result"
    }
   ],
   "source": [
    "data = {\n",
    "    'Machine_ID': [1, 2, 3, 4, 5, 6, 7, 8, 9, 10] * 10,\n",
    "    'Vote_Choice': ['A', 'B', 'C', 'D', 'A', 'B', 'C', 'D', 'A', 'B', 'C', 'D', 'A', 'B', 'C', 'D', 'A', 'B', 'C', 'D'] * 5,\n",
    "    'Location': ['Loc1', 'Loc1', 'Loc1', 'Loc1', 'Loc2', 'Loc2', 'Loc2', 'Loc2', 'Loc3', 'Loc3', 'Loc3', 'Loc3', 'Loc1', 'Loc1', 'Loc1', 'Loc1', 'Loc2', 'Loc2', 'Loc2', 'Loc2'] * 5,\n",
    "    'Voting_Duration': [10, 20, 30, 40, 15, 25, 35, 45, 50, 60, 12, 22, 32, 42, 18, 28, 38, 48, 55, 65] * 5,\n",
    "    'Fraudulent': [0, 1, 0, 0, 1, 0, 0, 1, 0, 0, 1, 0, 0, 1, 0, 0, 1, 0, 1, 0] * 5\n",
    "}\n",
    "df=pd.DataFrame(data)\n",
    "# Save to CSV\n",
    "df.to_csv('evm_synthetic_fraud_detection.csv', index=False)\n",
    "df2=pd.read_csv(r'evm_synthetic_fraud_detection.csv')\n",
    "df2"
   ]
  },
  {
   "cell_type": "markdown",
   "id": "be5358c7-a990-4931-9f79-f8fc1ca9ca88",
   "metadata": {},
   "source": [
    "**Determining the shape**"
   ]
  },
  {
   "cell_type": "code",
   "execution_count": 229,
   "id": "89e91deb-05c1-49a7-b1fe-2c45395b7052",
   "metadata": {},
   "outputs": [
    {
     "data": {
      "text/plain": [
       "(100, 5)"
      ]
     },
     "execution_count": 229,
     "metadata": {},
     "output_type": "execute_result"
    }
   ],
   "source": [
    "df2.shape"
   ]
  },
  {
   "cell_type": "markdown",
   "id": "5632a1c6-a7c4-41d9-9a6f-f9e9f0c15e68",
   "metadata": {},
   "source": [
    "**Determining the datatypes**"
   ]
  },
  {
   "cell_type": "code",
   "execution_count": 230,
   "id": "20347c4c-ea21-4d0a-944d-ab256a906439",
   "metadata": {},
   "outputs": [
    {
     "data": {
      "text/plain": [
       "Machine_ID          int64\n",
       "Vote_Choice        object\n",
       "Location           object\n",
       "Voting_Duration     int64\n",
       "Fraudulent          int64\n",
       "dtype: object"
      ]
     },
     "execution_count": 230,
     "metadata": {},
     "output_type": "execute_result"
    }
   ],
   "source": [
    "df2.dtypes"
   ]
  },
  {
   "cell_type": "markdown",
   "id": "5be306de-824d-430d-8b72-880ba2fac8f2",
   "metadata": {},
   "source": [
    "**PreProcessing the data**"
   ]
  },
  {
   "cell_type": "code",
   "execution_count": 231,
   "id": "0b5a41c4-813d-4797-ae02-77042856e2b1",
   "metadata": {},
   "outputs": [
    {
     "data": {
      "text/html": [
       "<div>\n",
       "<style scoped>\n",
       "    .dataframe tbody tr th:only-of-type {\n",
       "        vertical-align: middle;\n",
       "    }\n",
       "\n",
       "    .dataframe tbody tr th {\n",
       "        vertical-align: top;\n",
       "    }\n",
       "\n",
       "    .dataframe thead th {\n",
       "        text-align: right;\n",
       "    }\n",
       "</style>\n",
       "<table border=\"1\" class=\"dataframe\">\n",
       "  <thead>\n",
       "    <tr style=\"text-align: right;\">\n",
       "      <th></th>\n",
       "      <th>Machine_ID</th>\n",
       "      <th>Vote_Choice</th>\n",
       "      <th>Location</th>\n",
       "      <th>Voting_Duration</th>\n",
       "      <th>Fraudulent</th>\n",
       "    </tr>\n",
       "  </thead>\n",
       "  <tbody>\n",
       "    <tr>\n",
       "      <th>0</th>\n",
       "      <td>0</td>\n",
       "      <td>0</td>\n",
       "      <td>0</td>\n",
       "      <td>10</td>\n",
       "      <td>0</td>\n",
       "    </tr>\n",
       "    <tr>\n",
       "      <th>1</th>\n",
       "      <td>2</td>\n",
       "      <td>1</td>\n",
       "      <td>0</td>\n",
       "      <td>20</td>\n",
       "      <td>1</td>\n",
       "    </tr>\n",
       "    <tr>\n",
       "      <th>2</th>\n",
       "      <td>3</td>\n",
       "      <td>2</td>\n",
       "      <td>0</td>\n",
       "      <td>30</td>\n",
       "      <td>0</td>\n",
       "    </tr>\n",
       "    <tr>\n",
       "      <th>3</th>\n",
       "      <td>4</td>\n",
       "      <td>3</td>\n",
       "      <td>0</td>\n",
       "      <td>40</td>\n",
       "      <td>0</td>\n",
       "    </tr>\n",
       "    <tr>\n",
       "      <th>4</th>\n",
       "      <td>5</td>\n",
       "      <td>0</td>\n",
       "      <td>1</td>\n",
       "      <td>15</td>\n",
       "      <td>1</td>\n",
       "    </tr>\n",
       "    <tr>\n",
       "      <th>...</th>\n",
       "      <td>...</td>\n",
       "      <td>...</td>\n",
       "      <td>...</td>\n",
       "      <td>...</td>\n",
       "      <td>...</td>\n",
       "    </tr>\n",
       "    <tr>\n",
       "      <th>95</th>\n",
       "      <td>6</td>\n",
       "      <td>3</td>\n",
       "      <td>0</td>\n",
       "      <td>28</td>\n",
       "      <td>0</td>\n",
       "    </tr>\n",
       "    <tr>\n",
       "      <th>96</th>\n",
       "      <td>7</td>\n",
       "      <td>0</td>\n",
       "      <td>1</td>\n",
       "      <td>38</td>\n",
       "      <td>1</td>\n",
       "    </tr>\n",
       "    <tr>\n",
       "      <th>97</th>\n",
       "      <td>8</td>\n",
       "      <td>1</td>\n",
       "      <td>1</td>\n",
       "      <td>48</td>\n",
       "      <td>0</td>\n",
       "    </tr>\n",
       "    <tr>\n",
       "      <th>98</th>\n",
       "      <td>9</td>\n",
       "      <td>2</td>\n",
       "      <td>1</td>\n",
       "      <td>55</td>\n",
       "      <td>1</td>\n",
       "    </tr>\n",
       "    <tr>\n",
       "      <th>99</th>\n",
       "      <td>1</td>\n",
       "      <td>3</td>\n",
       "      <td>1</td>\n",
       "      <td>65</td>\n",
       "      <td>0</td>\n",
       "    </tr>\n",
       "  </tbody>\n",
       "</table>\n",
       "<p>100 rows × 5 columns</p>\n",
       "</div>"
      ],
      "text/plain": [
       "    Machine_ID  Vote_Choice  Location  Voting_Duration  Fraudulent\n",
       "0            0            0         0               10           0\n",
       "1            2            1         0               20           1\n",
       "2            3            2         0               30           0\n",
       "3            4            3         0               40           0\n",
       "4            5            0         1               15           1\n",
       "..         ...          ...       ...              ...         ...\n",
       "95           6            3         0               28           0\n",
       "96           7            0         1               38           1\n",
       "97           8            1         1               48           0\n",
       "98           9            2         1               55           1\n",
       "99           1            3         1               65           0\n",
       "\n",
       "[100 rows x 5 columns]"
      ]
     },
     "execution_count": 231,
     "metadata": {},
     "output_type": "execute_result"
    }
   ],
   "source": [
    "def preprocess_data(df):\n",
    "    # Encode categorical features\n",
    "    label_encoders = {}\n",
    "    categorical_features = ['Machine_ID','Vote_Choice', 'Location']\n",
    "#Encoding the categorical values into numerical\n",
    "    for feature in categorical_features:\n",
    "        le = LabelEncoder()\n",
    "        df2[feature] = le.fit_transform(df2[feature].astype(str))\n",
    "        label_encoders[feature] = le\n",
    "\n",
    "    return df2, label_encoders\n",
    "\n",
    "df2, label_encoders = preprocess_data(df2)\n",
    "df2"
   ]
  },
  {
   "cell_type": "markdown",
   "id": "3a93f4c7-2cb8-4ff2-93b2-6e8673490965",
   "metadata": {},
   "source": [
    "**Splitting the data into training and test set**"
   ]
  },
  {
   "cell_type": "code",
   "execution_count": 232,
   "id": "936eedda-a2ac-4699-b95e-9a34619e0596",
   "metadata": {},
   "outputs": [],
   "source": [
    "# Split the data into features and target\n",
    "X = df2.drop('Fraudulent',axis=1)\n",
    "y = df2['Fraudulent']\n",
    "X_train, X_test, y_train, y_test = train_test_split(X, y, test_size=0.3, random_state=42)"
   ]
  },
  {
   "cell_type": "markdown",
   "id": "26e18e40-322b-4c68-af68-fc06d702f4fc",
   "metadata": {},
   "source": [
    "**Standard Scaling**"
   ]
  },
  {
   "cell_type": "code",
   "execution_count": 233,
   "id": "88e4d363-f5e0-48e4-8c16-c002ed8c3049",
   "metadata": {},
   "outputs": [],
   "source": [
    "# Feature scaling\n",
    "scaler = StandardScaler()\n",
    "X_train_scaled = scaler.fit_transform(X_train)\n",
    "X_test_scaled = scaler.transform(X_test)"
   ]
  },
  {
   "cell_type": "markdown",
   "id": "8b7df5f3-454e-4874-9c2d-312c6b960c15",
   "metadata": {},
   "source": [
    "**Applying RandomForestClassifier**"
   ]
  },
  {
   "cell_type": "code",
   "execution_count": 234,
   "id": "e7d2e675-0a5f-423b-bbaa-4311542da6f6",
   "metadata": {},
   "outputs": [
    {
     "data": {
      "text/html": [
       "<style>#sk-container-id-9 {color: black;background-color: white;}#sk-container-id-9 pre{padding: 0;}#sk-container-id-9 div.sk-toggleable {background-color: white;}#sk-container-id-9 label.sk-toggleable__label {cursor: pointer;display: block;width: 100%;margin-bottom: 0;padding: 0.3em;box-sizing: border-box;text-align: center;}#sk-container-id-9 label.sk-toggleable__label-arrow:before {content: \"▸\";float: left;margin-right: 0.25em;color: #696969;}#sk-container-id-9 label.sk-toggleable__label-arrow:hover:before {color: black;}#sk-container-id-9 div.sk-estimator:hover label.sk-toggleable__label-arrow:before {color: black;}#sk-container-id-9 div.sk-toggleable__content {max-height: 0;max-width: 0;overflow: hidden;text-align: left;background-color: #f0f8ff;}#sk-container-id-9 div.sk-toggleable__content pre {margin: 0.2em;color: black;border-radius: 0.25em;background-color: #f0f8ff;}#sk-container-id-9 input.sk-toggleable__control:checked~div.sk-toggleable__content {max-height: 200px;max-width: 100%;overflow: auto;}#sk-container-id-9 input.sk-toggleable__control:checked~label.sk-toggleable__label-arrow:before {content: \"▾\";}#sk-container-id-9 div.sk-estimator input.sk-toggleable__control:checked~label.sk-toggleable__label {background-color: #d4ebff;}#sk-container-id-9 div.sk-label input.sk-toggleable__control:checked~label.sk-toggleable__label {background-color: #d4ebff;}#sk-container-id-9 input.sk-hidden--visually {border: 0;clip: rect(1px 1px 1px 1px);clip: rect(1px, 1px, 1px, 1px);height: 1px;margin: -1px;overflow: hidden;padding: 0;position: absolute;width: 1px;}#sk-container-id-9 div.sk-estimator {font-family: monospace;background-color: #f0f8ff;border: 1px dotted black;border-radius: 0.25em;box-sizing: border-box;margin-bottom: 0.5em;}#sk-container-id-9 div.sk-estimator:hover {background-color: #d4ebff;}#sk-container-id-9 div.sk-parallel-item::after {content: \"\";width: 100%;border-bottom: 1px solid gray;flex-grow: 1;}#sk-container-id-9 div.sk-label:hover label.sk-toggleable__label {background-color: #d4ebff;}#sk-container-id-9 div.sk-serial::before {content: \"\";position: absolute;border-left: 1px solid gray;box-sizing: border-box;top: 0;bottom: 0;left: 50%;z-index: 0;}#sk-container-id-9 div.sk-serial {display: flex;flex-direction: column;align-items: center;background-color: white;padding-right: 0.2em;padding-left: 0.2em;position: relative;}#sk-container-id-9 div.sk-item {position: relative;z-index: 1;}#sk-container-id-9 div.sk-parallel {display: flex;align-items: stretch;justify-content: center;background-color: white;position: relative;}#sk-container-id-9 div.sk-item::before, #sk-container-id-9 div.sk-parallel-item::before {content: \"\";position: absolute;border-left: 1px solid gray;box-sizing: border-box;top: 0;bottom: 0;left: 50%;z-index: -1;}#sk-container-id-9 div.sk-parallel-item {display: flex;flex-direction: column;z-index: 1;position: relative;background-color: white;}#sk-container-id-9 div.sk-parallel-item:first-child::after {align-self: flex-end;width: 50%;}#sk-container-id-9 div.sk-parallel-item:last-child::after {align-self: flex-start;width: 50%;}#sk-container-id-9 div.sk-parallel-item:only-child::after {width: 0;}#sk-container-id-9 div.sk-dashed-wrapped {border: 1px dashed gray;margin: 0 0.4em 0.5em 0.4em;box-sizing: border-box;padding-bottom: 0.4em;background-color: white;}#sk-container-id-9 div.sk-label label {font-family: monospace;font-weight: bold;display: inline-block;line-height: 1.2em;}#sk-container-id-9 div.sk-label-container {text-align: center;}#sk-container-id-9 div.sk-container {/* jupyter's `normalize.less` sets `[hidden] { display: none; }` but bootstrap.min.css set `[hidden] { display: none !important; }` so we also need the `!important` here to be able to override the default hidden behavior on the sphinx rendered scikit-learn.org. See: https://github.com/scikit-learn/scikit-learn/issues/21755 */display: inline-block !important;position: relative;}#sk-container-id-9 div.sk-text-repr-fallback {display: none;}</style><div id=\"sk-container-id-9\" class=\"sk-top-container\"><div class=\"sk-text-repr-fallback\"><pre>RandomForestClassifier(random_state=42)</pre><b>In a Jupyter environment, please rerun this cell to show the HTML representation or trust the notebook. <br />On GitHub, the HTML representation is unable to render, please try loading this page with nbviewer.org.</b></div><div class=\"sk-container\" hidden><div class=\"sk-item\"><div class=\"sk-estimator sk-toggleable\"><input class=\"sk-toggleable__control sk-hidden--visually\" id=\"sk-estimator-id-9\" type=\"checkbox\" checked><label for=\"sk-estimator-id-9\" class=\"sk-toggleable__label sk-toggleable__label-arrow\">RandomForestClassifier</label><div class=\"sk-toggleable__content\"><pre>RandomForestClassifier(random_state=42)</pre></div></div></div></div></div>"
      ],
      "text/plain": [
       "RandomForestClassifier(random_state=42)"
      ]
     },
     "execution_count": 234,
     "metadata": {},
     "output_type": "execute_result"
    }
   ],
   "source": [
    "# Initialize and train the model\n",
    "from sklearn.ensemble import RandomForestClassifier\n",
    "model = RandomForestClassifier(n_estimators=100, random_state=42)\n",
    "model.fit(X_train_scaled, y_train)"
   ]
  },
  {
   "cell_type": "code",
   "execution_count": 235,
   "id": "d520c12c-ae55-45e6-9f59-8a37f08980aa",
   "metadata": {},
   "outputs": [],
   "source": [
    "# Make predictions and evaluate the model\n",
    "y_pred = model.predict(X_test_scaled)\n",
    "accuracy = accuracy_score(y_test, y_pred)\n",
    "report = classification_report(y_test, y_pred)"
   ]
  },
  {
   "cell_type": "code",
   "execution_count": 236,
   "id": "90e157c2-165b-42c2-89f5-bd1c5c5763dd",
   "metadata": {},
   "outputs": [
    {
     "name": "stdout",
     "output_type": "stream",
     "text": [
      "Accuracy: 1.00\n",
      "Classification Report:\n",
      "              precision    recall  f1-score   support\n",
      "\n",
      "           0       1.00      1.00      1.00        18\n",
      "           1       1.00      1.00      1.00        12\n",
      "\n",
      "    accuracy                           1.00        30\n",
      "   macro avg       1.00      1.00      1.00        30\n",
      "weighted avg       1.00      1.00      1.00        30\n",
      "\n"
     ]
    }
   ],
   "source": [
    "# giving the accuracy score and Classifiaction report for RandomForestClassifier\n",
    "print(f'Accuracy: {accuracy:.2f}')\n",
    "print('Classification Report:')\n",
    "print(report)"
   ]
  },
  {
   "cell_type": "code",
   "execution_count": 237,
   "id": "a402ed2b-47b2-4da3-bc98-3d319e92a5c9",
   "metadata": {},
   "outputs": [
    {
     "name": "stdout",
     "output_type": "stream",
     "text": [
      "Confusion Matrix:\n"
     ]
    },
    {
     "data": {
      "text/plain": [
       "array([[18,  0],\n",
       "       [ 0, 12]], dtype=int64)"
      ]
     },
     "execution_count": 237,
     "metadata": {},
     "output_type": "execute_result"
    }
   ],
   "source": [
    "#Determining the Confusion matrix\n",
    "print(\"Confusion Matrix:\")\n",
    "conf_matrix = confusion_matrix(y_test, y_pred)\n",
    "conf_matrix"
   ]
  },
  {
   "cell_type": "markdown",
   "id": "943818cc-179a-4e5e-a7fb-cb42d4b055c6",
   "metadata": {},
   "source": [
    "**Plot the Confusion matrix**"
   ]
  },
  {
   "cell_type": "code",
   "execution_count": 238,
   "id": "9a85c978-201d-4fe8-b310-0f85dd3a0af2",
   "metadata": {},
   "outputs": [
    {
     "data": {
      "image/png": "[encoded data removed]",
      "text/plain": [
       "<Figure size 1000x700 with 2 Axes>"
      ]
     },
     "metadata": {},
     "output_type": "display_data"
    }
   ],
   "source": [
    "# Plot confusion matrix\n",
    "plt.figure(figsize=(10,7))\n",
    "sns.heatmap(conf_matrix, annot=True, fmt='d', cmap='Blues')\n",
    "plt.ylabel('Actual')\n",
    "plt.xlabel('Predicted')\n",
    "plt.title('Confusion Matrix')\n",
    "plt.show()"
   ]
  },
  {
   "cell_type": "markdown",
   "id": "7f6e5caf-cd43-4bf6-990d-bafadef7a163",
   "metadata": {},
   "source": [
    "**Obtained LogisticRegressionScore**"
   ]
  },
  {
   "cell_type": "code",
   "execution_count": 239,
   "id": "f8d010f0-0fe7-4d0c-a917-6d0e26e38138",
   "metadata": {},
   "outputs": [],
   "source": [
    "from sklearn.linear_model import LogisticRegression\n",
    "def get_score(model,X_train,y_train,X_test,y_test):\n",
    "    model.fit(X_train,y_train)\n",
    "    return model.score(X_test,y_test)"
   ]
  },
  {
   "cell_type": "code",
   "execution_count": 240,
   "id": "20fea877-9eea-4957-824e-d3a57faebd81",
   "metadata": {},
   "outputs": [
    {
     "data": {
      "text/plain": [
       "0.6"
      ]
     },
     "execution_count": 240,
     "metadata": {},
     "output_type": "execute_result"
    }
   ],
   "source": [
    "get_score(LogisticRegression(),X_train,y_train,X_test,y_test) # getting LogisticRegression Score"
   ]
  },
  {
   "cell_type": "markdown",
   "id": "64f96f50-d389-4f3c-aeb8-278c5abd5cf4",
   "metadata": {},
   "source": [
    "**Build AdaBoostClassifier**"
   ]
  },
  {
   "cell_type": "code",
   "execution_count": 241,
   "id": "e0e196e6-b070-4cc2-af2a-1567e0b9fbcf",
   "metadata": {},
   "outputs": [],
   "source": [
    "from sklearn.ensemble import AdaBoostClassifier\n",
    "#create adaboost classifier object\n",
    "abc=AdaBoostClassifier(n_estimators=50,learning_rate=1,random_state=0)\n",
    "#Train AdaBoost Classifier\n",
    "model1=abc.fit(X_train,y_train)\n",
    "#predict the response for test data\n",
    "y_pred=model1.predict(X_test)"
   ]
  },
  {
   "cell_type": "code",
   "execution_count": 242,
   "id": "11933342-95d6-4bde-8302-dcd42bd38782",
   "metadata": {},
   "outputs": [
    {
     "name": "stdout",
     "output_type": "stream",
     "text": [
      "model accuracy score: 1.0\n"
     ]
    }
   ],
   "source": [
    "from sklearn.metrics import accuracy_score\n",
    "print(\"model accuracy score:\",accuracy_score(y_test,y_pred))"
   ]
  },
  {
   "cell_type": "markdown",
   "id": "8bfc002f-3836-4f08-a460-da289ce74e95",
   "metadata": {},
   "source": [
    "**Build XGBoostClassifier**"
   ]
  },
  {
   "cell_type": "code",
   "execution_count": 243,
   "id": "a1b14d51-c7b6-412e-840c-f4143e5bfe8b",
   "metadata": {},
   "outputs": [],
   "source": [
    "from xgboost import XGBClassifier\n",
    "#create XG classifier object\n",
    "xgb=XGBClassifier(use_label_encoder=False, eval_metric='mlogloss')\n",
    "#Train XGBoost Classifier\n",
    "model3=xgb.fit(X_train,y_train)\n",
    "#predict the response for test data\n",
    "y_pred=model3.predict(X_test)"
   ]
  },
  {
   "cell_type": "code",
   "execution_count": 244,
   "id": "23152eb5-01b6-4aa9-b1dc-3fdcd4cdd8b5",
   "metadata": {},
   "outputs": [
    {
     "name": "stdout",
     "output_type": "stream",
     "text": [
      "model accuracy score: 1.0\n"
     ]
    }
   ],
   "source": [
    "from sklearn.metrics import accuracy_score\n",
    "print(\"model accuracy score:\",accuracy_score(y_test,y_pred))"
   ]
  },
  {
   "cell_type": "markdown",
   "id": "1992570e-62ed-4247-9d3d-c0b17e37b35d",
   "metadata": {},
   "source": [
    "**Applying Cross Validation Score**"
   ]
  },
  {
   "cell_type": "code",
   "execution_count": 245,
   "id": "046989dc-dbb1-4d09-95d8-e5b5c656724d",
   "metadata": {},
   "outputs": [
    {
     "name": "stdout",
     "output_type": "stream",
     "text": [
      "xgb Cross-Validation Scores: [1.         1.         1.         0.92857143 0.85714286]\n",
      "Random Forest Cross-Validation Scores: [1.         1.         1.         0.92857143 0.85714286]\n",
      "AdaBoost Cross-Validation Scores: [1.         1.         1.         0.92857143 0.85714286]\n"
     ]
    }
   ],
   "source": [
    "from sklearn.model_selection import cross_val_score\n",
    "\n",
    "xgb_cv_scores = cross_val_score(xgb, X_train, y_train, cv=5)\n",
    "rf_cv_scores = cross_val_score(model, X_train, y_train, cv=5)\n",
    "ada_cv_scores = cross_val_score(abc, X_train, y_train, cv=5)\n",
    "\n",
    "print(\"xgb Cross-Validation Scores:\", xgb_cv_scores)\n",
    "print(\"Random Forest Cross-Validation Scores:\", rf_cv_scores)\n",
    "print(\"AdaBoost Cross-Validation Scores:\", ada_cv_scores)"
   ]
  },
  {
   "cell_type": "code",
   "execution_count": 247,
   "id": "8d63d096-2f6a-4260-8220-c4a1707eb0e1",
   "metadata": {},
   "outputs": [
    {
     "name": "stdin",
     "output_type": "stream",
     "text": [
      "Enter Machine ID:  5\n",
      "Enter Vote Choice (A, B, C, D):  A\n",
      "Enter Location (Loc1, Loc2, Loc3):  Loc2\n",
      "Enter Voting Duration:  15\n"
     ]
    },
    {
     "name": "stdout",
     "output_type": "stream",
     "text": [
      "The voting record is: **1**\n",
      "Fraud detected\n"
     ]
    }
   ],
   "source": [
    "df2=pd.DataFrame(data)\n",
    "def get_fraudulent_value(machine_id, vote_choice, location , voting_duration):\n",
    "  \"\"\"\n",
    "  Returns the fraudulent value for a given vote.\n",
    "\n",
    "  Args:\n",
    "    machine_id: The ID of the machine.\n",
    "    vote_choice: The vote choice.\n",
    "    voting_duration: The voting duration.\n",
    "    location: The voting location.\n",
    "\n",
    "  Returns:\n",
    "    The fraudulent value (0 or 1).\n",
    "  \"\"\"\n",
    "\n",
    "  # Find the index of the vote in the dataset\n",
    "  for i, row in enumerate(zip(df2['Machine_ID'], df2['Vote_Choice'], df2['Location'], df2['Voting_Duration'])):\n",
    "    if row == (machine_id, vote_choice, location, voting_duration):\n",
    "      return df2['Fraudulent'][i]\n",
    "\n",
    "  # If not found, return None or handle the case accordingly\n",
    "  return None  # Or raise an exception, return a default value, etc.\n",
    "# Example usage\n",
    "machine_id = int(input(\"Enter Machine ID: \"))\n",
    "vote_choice = input(\"Enter Vote Choice (A, B, C, D): \")\n",
    "location = input(\"Enter Location (Loc1, Loc2, Loc3): \")\n",
    "voting_duration = float(input(\"Enter Voting Duration: \"))\n",
    "\n",
    "result = get_fraudulent_value(machine_id, vote_choice, location, voting_duration)\n",
    "print(f'The voting record is: **{result}**')\n",
    "#Conditions for predicting the fraud\n",
    "if(result==1):\n",
    "    print(\"Fraud detected\")\n",
    "else:\n",
    "    print(\"No Fraud Detected\")"
   ]
  },
  {
   "cell_type": "code",
   "execution_count": null,
   "id": "96075cc3-ea59-4fd6-a463-be2c22b92704",
   "metadata": {},
   "outputs": [],
   "source": []
  }
 ],
 "metadata": {
  "kernelspec": {
   "display_name": "Python 3 (ipykernel)",
   "language": "python",
   "name": "python3"
  },
  "language_info": {
   "codemirror_mode": {
    "name": "ipython",
    "version": 3
   },
   "file_extension": ".py",
   "mimetype": "text/x-python",
   "name": "python",
   "nbconvert_exporter": "python",
   "pygments_lexer": "ipython3",
   "version": "3.11.7"
  }
 },
 "nbformat": 4,
 "nbformat_minor": 5
}
